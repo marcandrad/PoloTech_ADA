{
 "cells": [
  {
   "cell_type": "markdown",
   "id": "50482dfe",
   "metadata": {},
   "source": [
    "# Estatística Descritiva Continuação"
   ]
  },
  {
   "cell_type": "code",
   "execution_count": 3,
   "id": "87946866",
   "metadata": {
    "ExecuteTime": {
     "end_time": "2023-02-24T22:51:57.813411Z",
     "start_time": "2023-02-24T22:51:41.325663Z"
    }
   },
   "outputs": [],
   "source": [
    "import numpy as np\n",
    "import pandas as pd\n",
    "\n",
    "# bibliotecas gráficas\n",
    "import matplotlib.pyplot as plt\n",
    "import seaborn as sns"
   ]
  },
  {
   "cell_type": "markdown",
   "id": "78624a9c",
   "metadata": {
    "ExecuteTime": {
     "end_time": "2023-02-17T23:43:35.662914Z",
     "start_time": "2023-02-17T23:43:35.650731Z"
    }
   },
   "source": [
    "Documentação:\n",
    "\n",
    "https://assets.datacamp.com/blog_assets/PandasPythonForDataScience.pdf\n",
    "\n",
    "https://www.enthought.com/wp-content/uploads/2019/08/Pandas-Worksheets-ALL.pdf\n",
    "\n",
    "https://matplotlib.org/\n",
    "\n",
    "https://matplotlib.org/cheatsheets/cheatsheets.pdf\n",
    "\n",
    "https://seaborn.pydata.org/\n",
    "\n",
    "https://s3.amazonaws.com/assets.datacamp.com/blog_assets/Python_Seaborn_Cheat_Sheet.pdf\n",
    "\n",
    "\n",
    "https://www.data-to-viz.com/"
   ]
  },
  {
   "cell_type": "markdown",
   "id": "2b23691a",
   "metadata": {},
   "source": [
    "!pip install seaborn\n",
    "\n",
    "ou \n",
    "\n",
    "conda install -c anaconda seaborn"
   ]
  },
  {
   "cell_type": "markdown",
   "id": "9df77335",
   "metadata": {},
   "source": [
    "### Box Plot\n",
    "\n",
    "O boxplot (gráfico de caixa) é um gráfico utilizado para avaliar a distribuição empírica do dados. O boxplot é formado pelo primeiro e terceiro quartil e pela mediana. As hastes conhecidos como bigodes (**whiskers**) inferiores e superiores se estendem, respectivamente, do quartil inferior até o menor valor não inferior ao limite inferior e do quartil superior até o maior valor não superior ao limite superior. Os limites são calculados da forma abaixo:\n",
    "\n",
    "Limite inferior: $ \\max\\{\\min(\\text{dados});Q_1-1,5(Q_3-Q_1)\\} $.\n",
    "\n",
    "Limite superior: $ \\min\\{\\max(\\text{dados});Q_3+1,5(Q_3-Q_1)\\} $.\n",
    "\n",
    "Para este caso, os pontos fora destes limites são considerados valores discrepantes (Outliers) e são denotados por asterisco (*). A Figura  a seguir apresenta um exemplo do formato de um boxplot.\n",
    "\n",
    "<img src=https://miro.medium.com/max/8000/1*0MPDTLn8KoLApoFvI0P2vQ.png width=500>\n",
    "\n",
    "O boxplot pode ainda ser utilizado para uma comparação visual entre dois ou mais grupos. Por exemplo, duas ou mais caixas são colocadas lado a lado e se compara a variabilidade entre elas, a mediana e assim por diante. Outro ponto importante é a diferença entre os quartis $ (Q_3 - Q_1) $ que é uma medida da variabilidade dos dados.\n",
    "\n",
    "### Outliers\n",
    "\n",
    "**Outliers** ou **discrepantes** referem-se a obsevações **extremas**, que se deslocam em muito das outras observações em um conjunto de dados, ou seja, que **destoam do padrão da distribuição** dos dados. Outliers podem existir por motivos diferentes, alguns dos quais são:\n",
    "\n",
    "- erro na entrada de dados (erro humano);\n",
    "- erro na medição/coleta dos dados (erro instrumental);\n",
    "- erros experimentais (planejamento/execução dos experimentos);\n",
    "- outliers naturais (não decorrente de erros)\n",
    "\n",
    "<img src=\"https://miro.medium.com/max/700/1*J5Xm0X-phCJJ-DKZMZ_88w.png\">\n",
    "\n",
    "No caso dos erros, é importante que os outliers sejam tratados (comumente são removidos). Por outro lado, outliers naturais são importantes constituintes dos dados, de modo que não devem ser eliminados mas, muitas vezes, devem ser tratados.\n",
    "\n",
    "De qualquer modo, antes de começarmos a pensar em como **tratar** os outliers, o primeiro passo é **identificá-los** e a melhor forma para isso é utilizar dos boxplots.\n",
    "\n"
   ]
  },
  {
   "cell_type": "markdown",
   "id": "ba44cf4e",
   "metadata": {},
   "source": [
    "### Medidas de Dispersão\n",
    "\n",
    "Estas são **medidas de variabilidade**, que indicam o quanto as observações variam ao redor de alguma medida de centralidade (média, mediana, etc.). Em outras palavras, indicam **o quão longe podemos esperar que uma observação esteja do valor típico para aquela variável**. \n",
    "\n",
    "Existem diversas medidas de variabilidade, algumas das quais apresentamos a seguir.\n",
    "\n",
    "\n",
    "\n",
    "### Amplitude\n",
    "\n",
    "A amplitude é a **diferença entre o maior e o menor valor observado**. Algo bem importante a salientar sobre a amplitude é:\n",
    "\n",
    "- **Fortemente influenciada** por valores extremos nas observações, como outliers. \n",
    "\n"
   ]
  },
  {
   "cell_type": "code",
   "execution_count": 3,
   "id": "0404ed62",
   "metadata": {
    "ExecuteTime": {
     "end_time": "2023-02-17T23:40:16.659547Z",
     "start_time": "2023-02-17T23:40:16.630991Z"
    }
   },
   "outputs": [
    {
     "data": {
      "text/plain": [
       "array([ 2,  3,  4,  7,  7,  8,  8, 11, 11, 11, 12, 15, 19, 87])"
      ]
     },
     "execution_count": 3,
     "metadata": {},
     "output_type": "execute_result"
    }
   ],
   "source": [
    "# Define um array de amostra\n",
    "amostra2 = np.array([2, 3, 4, 7, 7, 8, 8, 11, 11, 11, 12, 15, 19, 87])\n",
    "\n",
    "amostra2"
   ]
  },
  {
   "cell_type": "code",
   "execution_count": 6,
   "id": "11331ee7",
   "metadata": {
    "ExecuteTime": {
     "end_time": "2023-02-18T00:05:21.908175Z",
     "start_time": "2023-02-18T00:05:20.945852Z"
    }
   },
   "outputs": [
    {
     "data": {
      "text/plain": [
       "<AxesSubplot:ylabel='Count'>"
      ]
     },
     "execution_count": 6,
     "metadata": {},
     "output_type": "execute_result"
    },
    {
     "data": {
      "image/png": "[encoded data removed]",
      "text/plain": [
       "<Figure size 640x480 with 1 Axes>"
      ]
     },
     "metadata": {},
     "output_type": "display_data"
    }
   ],
   "source": [
    "sns.histplot(amostra2)"
   ]
  },
  {
   "cell_type": "code",
   "execution_count": 7,
   "id": "a7c40b0f",
   "metadata": {
    "ExecuteTime": {
     "end_time": "2023-02-18T00:16:15.110384Z",
     "start_time": "2023-02-18T00:16:15.104262Z"
    }
   },
   "outputs": [
    {
     "name": "stdout",
     "output_type": "stream",
     "text": [
      "Dados: [ 2  3  4  7  7  8  8 11 11 11 12 15 19 87]\n",
      "\n",
      "Dados ordenados: [2, 3, 4, 7, 7, 8, 8, 11, 11, 11, 12, 15, 19, 87]\n",
      "\n",
      "Amplitude: 85\n"
     ]
    }
   ],
   "source": [
    "# Print dos dados da amostra\n",
    "print(\"Dados:\", amostra2)\n",
    "\n",
    "# Print dos dados ordenados\n",
    "print(\"\\nDados ordenados:\", sorted(amostra2))\n",
    "\n",
    "# Print do Valor da Amplitude\n",
    "print(\"\\nAmplitude:\", amostra2.max()-amostra2.min())"
   ]
  },
  {
   "cell_type": "markdown",
   "id": "0f45c6c4",
   "metadata": {},
   "source": [
    "### Variância \n",
    "\n",
    "A variância representa **o quanto os dados se afastam da média, em geral**. Por definição, tomamos a média dos **desvios quadráticos da média**:\n",
    "\n",
    "$$ Var(X) = \\sum_{i=1}^{n}\\frac{(x-\\overline{x})^{2}}{n-1} = \\frac{(x_1-\\overline{x})^{2}}{n-1} + \\frac{(x_2-\\overline{x})^{2}}{n-1} + \\cdots$$"
   ]
  },
  {
   "cell_type": "code",
   "execution_count": 10,
   "id": "c4dcb0c0",
   "metadata": {
    "ExecuteTime": {
     "end_time": "2023-02-18T00:22:15.541848Z",
     "start_time": "2023-02-18T00:22:15.531826Z"
    }
   },
   "outputs": [
    {
     "name": "stdout",
     "output_type": "stream",
     "text": [
      "Dados: [ 2  3  4  7  7  8  8 11 11 11 12 15 19 87]\n",
      "\n",
      "Variância: 422.51530612244903\n"
     ]
    }
   ],
   "source": [
    "# Print dos Dados\n",
    "print(\"Dados:\", amostra2)\n",
    "\n",
    "# Print do Valor da Variância\n",
    "print(\"\\nVariância:\", np.var(amostra2))"
   ]
  },
  {
   "cell_type": "markdown",
   "id": "468bfaa2",
   "metadata": {},
   "source": [
    "### Desvio padrão\n",
    "\n",
    "Note que, da forma como foi definida, a variância é um valor **quadrático** nos dados. Para evitar isso, é comum tirar a raiz quadrada da variância, o que define o **desvio padrão**:\n",
    "\n",
    "$$ \\sigma(X) \\equiv \\sqrt{Var(X)} = \\sqrt{\\sum_{i=1}^{n}\\frac{(x-\\overline{x})^{2}}{n - 1}}$$"
   ]
  },
  {
   "cell_type": "code",
   "execution_count": 12,
   "id": "b5bb1603",
   "metadata": {
    "ExecuteTime": {
     "end_time": "2023-02-18T00:24:35.867699Z",
     "start_time": "2023-02-18T00:24:35.851965Z"
    }
   },
   "outputs": [
    {
     "name": "stdout",
     "output_type": "stream",
     "text": [
      "Dados: [ 2  3  4  7  7  8  8 11 11 11 12 15 19 87]\n",
      "20.55517711240769\n",
      "\n",
      "Desvio Padrão: 20.55517711240769\n"
     ]
    }
   ],
   "source": [
    "# Print da Amostra\n",
    "print(\"Dados:\", amostra2)\n",
    "\n",
    "print(np.sqrt(np.var(amostra2)))\n",
    "\n",
    "#Print do Desvio Padrão\n",
    "print(\"\\nDesvio Padrão:\", np.std(amostra2))"
   ]
  },
  {
   "cell_type": "markdown",
   "id": "acb91c49",
   "metadata": {},
   "source": [
    "Até agora estamos analisando uma única variável separadamente: ANÁLISE UNIVARIADA\n",
    "\n",
    "Se quero saber a relação de 2 ou mais variáveis, utlizamos uma ANÁLISE MULTIVARIADA"
   ]
  },
  {
   "cell_type": "markdown",
   "id": "b46d4214",
   "metadata": {},
   "source": [
    "## Métricas de associação entre variáveis quantitativas\n",
    "\n",
    "\n",
    "Sejam $X$ e $Y$ variáveis quantitativas de interesse e as amostras aleatórias observadas $x_1,\\ldots,x_n$ e $y_1,\\ldots,y_n$, respectivamente. As medidas de associação mais utilizadas são:\n",
    "<br>\n",
    "\n",
    "### Covariância \n",
    "\n",
    "A __Covariância__ faz uma comparação similar que a variância, com a diferença que está comparação é entre variáveis distintas $X$ e $Y$:\n",
    "\n",
    "$s_{XY} = \\displaystyle{\\frac{\\displaystyle\\sum_{i=1}^{n}(x_i-\\bar{x})(y_i-\\bar{y})}{n-1}}$"
   ]
  },
  {
   "cell_type": "code",
   "execution_count": null,
   "id": "7324b1da",
   "metadata": {},
   "outputs": [],
   "source": [
    "np.cov()"
   ]
  },
  {
   "cell_type": "markdown",
   "id": "aa2db4b5",
   "metadata": {},
   "source": [
    "### Correlação\n",
    "\n",
    "Um dos conceitos mais importantes em Data Science é o da **correlação**. A partir de estudos de correlação, é possível **descobrirmos como diferentes variáveis interagem**.\n",
    "<br>\n",
    "<img src=\"https://www.mathsisfun.com/data/images/correlation-examples.svg\" width=700>\n",
    "<br>\n",
    "É bem importante distinguirmos correlações **lineares** de **não lineares**. \n",
    "<br>\n",
    "<img src=\"https://miro.medium.com/max/1414/1*ZMwog-_YcD0qBHc9_1T1-w.png\" width=700>\n",
    "<br>\n",
    "Para fazer a distinção acima, há testes específicos para correlação. Vamos ver dois coeficientes de correlação específicos que sâo: __Pearson__ e __Spearmann__\n",
    "\n",
    "**OBS.: CORRELAÇÃO NÃO IMPLICA EM CAUSALIDADE**  \n",
    "https://www.tylervigen.com/spurious-correlations\n",
    "\n",
    "\n",
    "### Correlação de Pearson\n",
    "\n",
    "A [__Correlação de Pearson__](https://pt.wikipedia.org/wiki/Coeficiente_de_correla%C3%A7%C3%A3o_de_Pearson) é expressa como  a **taxa de relação linear entre duas variáveis numéricas**. Quanto mais próximo de 1 ou -1, mais **linearmente correlacionado estão as variáveis testadas**. A fórmula define-se como:\n",
    "\n",
    "\n",
    "$r = \\displaystyle{\\frac{s_{XY}}{\\sqrt{s^2_X s^2_Y }}}$\n",
    "\n",
    "\n",
    "Propriedade: \n",
    "\n",
    " $-1 \\leq r \\leq 1$\n",
    "\n",
    "\n",
    "É comum usar as seguintes classificações:\n",
    "\n",
    "1. $r=1$ indica uma correlação perfeita e positiva\n",
    "\n",
    "2. $r=-1$ indica uma correlação perfeita e negativa\n",
    "\n",
    "3. $0.7 \\leq |r| \\leq 1$ indica uma correlação forte\n",
    "\n",
    "4. $0.5 \\leq |r| \\leq 0.69$ indica uma correlação moderada\n",
    "\n",
    "5. $0 \\leq |r| \\leq 0.49$ indica uma correlação fraca\n",
    "<br>\n",
    "\n",
    "### Correlação de Spearman\n",
    "\n",
    "[__Correlação de Spearmann__](https://pt.wikipedia.org/wiki/Coeficiente_de_correla%C3%A7%C3%A3o_de_postos_de_Spearman) e outra correlação linear bem conhecida e este coeficiente indica se as amostras possuem correlação *monotônica*, isso é, **se aumentarmos ou diminuimos uma, a outra irá aumentar ou diminuir**. \n",
    "\n",
    "O coeficiente varia entre -1 e 1:\n",
    "\n",
    "> Quanto mais próximo de 1 for o coeficiente, mais positivamente correlacionada as amostras, isso é, se aumentarmos uma, a outra ira aumentar (ou se diminuimos uma, a outra irá diminuir); \n",
    "\n",
    "> Quanto mais próximo de -1 for o resultado, mais negativamente correlacionada estão as variáveis, isso é, aumentando uma, a outra irá dimunuir (ou se diminuímos uma, a outra irá aumentar). \n",
    "\n",
    "> Uma correlação de 0 indica ausência de correlação.\n",
    "\n",
    "**Importante:** o coeficiente de Spearman **não** indica correlação necessariamente linear!"
   ]
  },
  {
   "cell_type": "code",
   "execution_count": 4,
   "id": "75afb576",
   "metadata": {
    "ExecuteTime": {
     "end_time": "2023-02-24T22:51:58.109660Z",
     "start_time": "2023-02-24T22:51:57.890550Z"
    }
   },
   "outputs": [
    {
     "data": {
      "text/html": [
       "<div>\n",
       "<style scoped>\n",
       "    .dataframe tbody tr th:only-of-type {\n",
       "        vertical-align: middle;\n",
       "    }\n",
       "\n",
       "    .dataframe tbody tr th {\n",
       "        vertical-align: top;\n",
       "    }\n",
       "\n",
       "    .dataframe thead th {\n",
       "        text-align: right;\n",
       "    }\n",
       "</style>\n",
       "<table border=\"1\" class=\"dataframe\">\n",
       "  <thead>\n",
       "    <tr style=\"text-align: right;\">\n",
       "      <th></th>\n",
       "      <th>mpg</th>\n",
       "      <th>cylinders</th>\n",
       "      <th>displacement</th>\n",
       "      <th>horsepower</th>\n",
       "      <th>weight</th>\n",
       "      <th>acceleration</th>\n",
       "      <th>model_year</th>\n",
       "      <th>origin</th>\n",
       "      <th>name</th>\n",
       "    </tr>\n",
       "  </thead>\n",
       "  <tbody>\n",
       "    <tr>\n",
       "      <th>0</th>\n",
       "      <td>18.0</td>\n",
       "      <td>8</td>\n",
       "      <td>307.0</td>\n",
       "      <td>130.0</td>\n",
       "      <td>3504</td>\n",
       "      <td>12.0</td>\n",
       "      <td>70</td>\n",
       "      <td>usa</td>\n",
       "      <td>chevrolet chevelle malibu</td>\n",
       "    </tr>\n",
       "    <tr>\n",
       "      <th>1</th>\n",
       "      <td>15.0</td>\n",
       "      <td>8</td>\n",
       "      <td>350.0</td>\n",
       "      <td>165.0</td>\n",
       "      <td>3693</td>\n",
       "      <td>11.5</td>\n",
       "      <td>70</td>\n",
       "      <td>usa</td>\n",
       "      <td>buick skylark 320</td>\n",
       "    </tr>\n",
       "    <tr>\n",
       "      <th>2</th>\n",
       "      <td>18.0</td>\n",
       "      <td>8</td>\n",
       "      <td>318.0</td>\n",
       "      <td>150.0</td>\n",
       "      <td>3436</td>\n",
       "      <td>11.0</td>\n",
       "      <td>70</td>\n",
       "      <td>usa</td>\n",
       "      <td>plymouth satellite</td>\n",
       "    </tr>\n",
       "    <tr>\n",
       "      <th>3</th>\n",
       "      <td>16.0</td>\n",
       "      <td>8</td>\n",
       "      <td>304.0</td>\n",
       "      <td>150.0</td>\n",
       "      <td>3433</td>\n",
       "      <td>12.0</td>\n",
       "      <td>70</td>\n",
       "      <td>usa</td>\n",
       "      <td>amc rebel sst</td>\n",
       "    </tr>\n",
       "    <tr>\n",
       "      <th>4</th>\n",
       "      <td>17.0</td>\n",
       "      <td>8</td>\n",
       "      <td>302.0</td>\n",
       "      <td>140.0</td>\n",
       "      <td>3449</td>\n",
       "      <td>10.5</td>\n",
       "      <td>70</td>\n",
       "      <td>usa</td>\n",
       "      <td>ford torino</td>\n",
       "    </tr>\n",
       "  </tbody>\n",
       "</table>\n",
       "</div>"
      ],
      "text/plain": [
       "    mpg  cylinders  displacement  horsepower  weight  acceleration  \\\n",
       "0  18.0          8         307.0       130.0    3504          12.0   \n",
       "1  15.0          8         350.0       165.0    3693          11.5   \n",
       "2  18.0          8         318.0       150.0    3436          11.0   \n",
       "3  16.0          8         304.0       150.0    3433          12.0   \n",
       "4  17.0          8         302.0       140.0    3449          10.5   \n",
       "\n",
       "   model_year origin                       name  \n",
       "0          70    usa  chevrolet chevelle malibu  \n",
       "1          70    usa          buick skylark 320  \n",
       "2          70    usa         plymouth satellite  \n",
       "3          70    usa              amc rebel sst  \n",
       "4          70    usa                ford torino  "
      ]
     },
     "execution_count": 4,
     "metadata": {},
     "output_type": "execute_result"
    }
   ],
   "source": [
    "mpg = sns.load_dataset('mpg')\n",
    "\n",
    "mpg.head()"
   ]
  },
  {
   "cell_type": "code",
   "execution_count": 5,
   "id": "02ab3c65",
   "metadata": {
    "ExecuteTime": {
     "end_time": "2023-02-24T22:52:05.674330Z",
     "start_time": "2023-02-24T22:52:05.633252Z"
    }
   },
   "outputs": [
    {
     "data": {
      "text/html": [
       "<div>\n",
       "<style scoped>\n",
       "    .dataframe tbody tr th:only-of-type {\n",
       "        vertical-align: middle;\n",
       "    }\n",
       "\n",
       "    .dataframe tbody tr th {\n",
       "        vertical-align: top;\n",
       "    }\n",
       "\n",
       "    .dataframe thead th {\n",
       "        text-align: right;\n",
       "    }\n",
       "</style>\n",
       "<table border=\"1\" class=\"dataframe\">\n",
       "  <thead>\n",
       "    <tr style=\"text-align: right;\">\n",
       "      <th></th>\n",
       "      <th>mpg</th>\n",
       "      <th>cylinders</th>\n",
       "      <th>displacement</th>\n",
       "      <th>horsepower</th>\n",
       "      <th>weight</th>\n",
       "      <th>acceleration</th>\n",
       "      <th>model_year</th>\n",
       "    </tr>\n",
       "  </thead>\n",
       "  <tbody>\n",
       "    <tr>\n",
       "      <th>mpg</th>\n",
       "      <td>1.000000</td>\n",
       "      <td>-0.775396</td>\n",
       "      <td>-0.804203</td>\n",
       "      <td>-0.778427</td>\n",
       "      <td>-0.831741</td>\n",
       "      <td>0.420289</td>\n",
       "      <td>0.579267</td>\n",
       "    </tr>\n",
       "    <tr>\n",
       "      <th>cylinders</th>\n",
       "      <td>-0.775396</td>\n",
       "      <td>1.000000</td>\n",
       "      <td>0.950721</td>\n",
       "      <td>0.842983</td>\n",
       "      <td>0.896017</td>\n",
       "      <td>-0.505419</td>\n",
       "      <td>-0.348746</td>\n",
       "    </tr>\n",
       "    <tr>\n",
       "      <th>displacement</th>\n",
       "      <td>-0.804203</td>\n",
       "      <td>0.950721</td>\n",
       "      <td>1.000000</td>\n",
       "      <td>0.897257</td>\n",
       "      <td>0.932824</td>\n",
       "      <td>-0.543684</td>\n",
       "      <td>-0.370164</td>\n",
       "    </tr>\n",
       "    <tr>\n",
       "      <th>horsepower</th>\n",
       "      <td>-0.778427</td>\n",
       "      <td>0.842983</td>\n",
       "      <td>0.897257</td>\n",
       "      <td>1.000000</td>\n",
       "      <td>0.864538</td>\n",
       "      <td>-0.689196</td>\n",
       "      <td>-0.416361</td>\n",
       "    </tr>\n",
       "    <tr>\n",
       "      <th>weight</th>\n",
       "      <td>-0.831741</td>\n",
       "      <td>0.896017</td>\n",
       "      <td>0.932824</td>\n",
       "      <td>0.864538</td>\n",
       "      <td>1.000000</td>\n",
       "      <td>-0.417457</td>\n",
       "      <td>-0.306564</td>\n",
       "    </tr>\n",
       "    <tr>\n",
       "      <th>acceleration</th>\n",
       "      <td>0.420289</td>\n",
       "      <td>-0.505419</td>\n",
       "      <td>-0.543684</td>\n",
       "      <td>-0.689196</td>\n",
       "      <td>-0.417457</td>\n",
       "      <td>1.000000</td>\n",
       "      <td>0.288137</td>\n",
       "    </tr>\n",
       "    <tr>\n",
       "      <th>model_year</th>\n",
       "      <td>0.579267</td>\n",
       "      <td>-0.348746</td>\n",
       "      <td>-0.370164</td>\n",
       "      <td>-0.416361</td>\n",
       "      <td>-0.306564</td>\n",
       "      <td>0.288137</td>\n",
       "      <td>1.000000</td>\n",
       "    </tr>\n",
       "  </tbody>\n",
       "</table>\n",
       "</div>"
      ],
      "text/plain": [
       "                   mpg  cylinders  displacement  horsepower    weight  \\\n",
       "mpg           1.000000  -0.775396     -0.804203   -0.778427 -0.831741   \n",
       "cylinders    -0.775396   1.000000      0.950721    0.842983  0.896017   \n",
       "displacement -0.804203   0.950721      1.000000    0.897257  0.932824   \n",
       "horsepower   -0.778427   0.842983      0.897257    1.000000  0.864538   \n",
       "weight       -0.831741   0.896017      0.932824    0.864538  1.000000   \n",
       "acceleration  0.420289  -0.505419     -0.543684   -0.689196 -0.417457   \n",
       "model_year    0.579267  -0.348746     -0.370164   -0.416361 -0.306564   \n",
       "\n",
       "              acceleration  model_year  \n",
       "mpg               0.420289    0.579267  \n",
       "cylinders        -0.505419   -0.348746  \n",
       "displacement     -0.543684   -0.370164  \n",
       "horsepower       -0.689196   -0.416361  \n",
       "weight           -0.417457   -0.306564  \n",
       "acceleration      1.000000    0.288137  \n",
       "model_year        0.288137    1.000000  "
      ]
     },
     "execution_count": 5,
     "metadata": {},
     "output_type": "execute_result"
    }
   ],
   "source": [
    "mpg.corr(numeric_only=True)"
   ]
  },
  {
   "cell_type": "code",
   "execution_count": 6,
   "id": "40e32f09",
   "metadata": {
    "ExecuteTime": {
     "end_time": "2023-02-24T22:52:44.975429Z",
     "start_time": "2023-02-24T22:52:42.578019Z"
    }
   },
   "outputs": [
    {
     "data": {
      "text/plain": [
       "<AxesSubplot:>"
      ]
     },
     "execution_count": 6,
     "metadata": {},
     "output_type": "execute_result"
    },
    {
     "data": {
      "image/png": "[encoded data removed]",
      "text/plain": [
       "<Figure size 640x480 with 2 Axes>"
      ]
     },
     "metadata": {},
     "output_type": "display_data"
    }
   ],
   "source": [
    "sns.heatmap(mpg.corr(numeric_only=True), annot=True, cmap='seismic')"
   ]
  },
  {
   "cell_type": "markdown",
   "id": "eae82115",
   "metadata": {},
   "source": [
    "### Assimetria\n",
    "\n",
    "É o **grau de desvio ou afastamento** da **simetria** de uma distribuição. Quando a curva é simétrica, a `média`, a `mediana` e a `moda` coincidem, num mesmo ponto, havendo um perfeito equilíbrio na distribuição. Um exemplo de distribuição simétrica é a **distribuição normal**. Quando o equilíbrio não acontece, a média, a mediana e a moda recaem em pontos diferentes da distribuição, e a distribuição se torna **assimétrica**:\n",
    "\n",
    "<img src=\"https://www.researchgate.net/profile/Marco_Faria/publication/294890337/figure/fig5/AS:668873900716049@1536483373457/a-Negative-skewness-b-Normal-curve-c-Positive-skewness-Durkhure-and-Lodwal-2014.ppm\" width=600>\n",
    "\n",
    "\n",
    "- Distribuição assimétrica **Negativa ou enviesada a esquerda**: quando os valores se concentram na extremidade superior da escala e se distribuem gradativamente em direção à extremidade inferior.\n",
    "\n",
    "- Distribuição assimétrica **Positiva ou enviesada a direita**: quando os valores se concentram na extremidade inferior da escala e se distribuem gradativamente em direção à extremidade superior.\n",
    "\n",
    "A medidade de assimetria é conhecida como **skewness**, sendo calculada como:\n",
    "\n",
    "$$ s(X) = \\frac{1}{\\sigma^3}\\sum_{i=1}^{n}\\frac{(x-\\overline{x})^{3}}{n}$$\n",
    "\n",
    "O valor da skewness nos indica a assimetria da distribuição:\n",
    "\n",
    "- s = 0: distribuição simétrica\n",
    "- s > 0: assimetria à direira\n",
    "- s < 0: assimetria à esquerda"
   ]
  },
  {
   "cell_type": "code",
   "execution_count": 7,
   "id": "14551210",
   "metadata": {
    "ExecuteTime": {
     "end_time": "2023-02-24T23:04:12.543341Z",
     "start_time": "2023-02-24T23:04:12.523202Z"
    }
   },
   "outputs": [
    {
     "name": "stdout",
     "output_type": "stream",
     "text": [
      "Dados: [15  7 16 19 13 16 14 15  9 16 15 17]\n"
     ]
    }
   ],
   "source": [
    "# Vamos criar uma amostra aleatória de numéros inteiros\n",
    "amostra = np.random.randint(1, 20, 12)\n",
    "\n",
    "# Print da amostra\n",
    "print(\"Dados:\", amostra)"
   ]
  },
  {
   "cell_type": "code",
   "execution_count": 8,
   "id": "097e76e7",
   "metadata": {
    "ExecuteTime": {
     "end_time": "2023-02-24T23:05:41.443486Z",
     "start_time": "2023-02-24T23:05:41.424826Z"
    }
   },
   "outputs": [
    {
     "name": "stdout",
     "output_type": "stream",
     "text": [
      "Dados: [15  7 16 19 13 16 14 15  9 16 15 17]\n",
      "\n",
      "Skewness: -1.2101929502194728\n"
     ]
    }
   ],
   "source": [
    "print(\"Dados:\", amostra)\n",
    "\n",
    "print(\"\\nSkewness:\", pd.Series(amostra).skew())"
   ]
  },
  {
   "cell_type": "code",
   "execution_count": 14,
   "id": "8837cf50",
   "metadata": {
    "ExecuteTime": {
     "end_time": "2023-02-24T23:09:14.160688Z",
     "start_time": "2023-02-24T23:09:14.140729Z"
    }
   },
   "outputs": [
    {
     "name": "stdout",
     "output_type": "stream",
     "text": [
      "média 14.333333333333334\n",
      "mediana 15.0\n",
      "moda 15\n"
     ]
    }
   ],
   "source": [
    "print('média', amostra.mean())\n",
    "print('mediana', pd.Series(amostra).median())\n",
    "print('moda', pd.Series(amostra).mode()[0])"
   ]
  },
  {
   "cell_type": "markdown",
   "id": "7000862a",
   "metadata": {},
   "source": [
    "### Tabelas de Frequência\n",
    "\n",
    "A distribuição de frequências é um agrupamento de dados em classes, de tal forma que contabilizamos o número de ocorrências em cada classe. O objetivo é apresentar os dados de uma maneira mais concisa e que nos permita extrair informação sobre seu comportamento. A seguir, apresentamos algumas definições necessárias à construção da distribuição de frequências.\n",
    "\n",
    "**Frequência absoluta (ƒi):** É o número de observações correspondente a cada classe. A frequência absoluta é, geralmente, chamada apenas de frequência.\n",
    "\n",
    "**Frequência relativa (ƒri):** É o quociente entre a frequência absoluta da classe correspondente e a soma das frequências (total observado), isto é, $ \\displaystyle f_{ri}=\\frac{f_i}{\\sum_{j}f_j} $ onde n representa o número total de observações.\n",
    "\n",
    "**Frequência percentual (pi):** É obtida multiplicando a frequência relativa por 100%.<br><br>"
   ]
  },
  {
   "cell_type": "code",
   "execution_count": 15,
   "id": "48696aed",
   "metadata": {
    "ExecuteTime": {
     "end_time": "2023-02-24T23:14:38.056971Z",
     "start_time": "2023-02-24T23:14:38.004840Z"
    }
   },
   "outputs": [
    {
     "data": {
      "text/html": [
       "<div>\n",
       "<style scoped>\n",
       "    .dataframe tbody tr th:only-of-type {\n",
       "        vertical-align: middle;\n",
       "    }\n",
       "\n",
       "    .dataframe tbody tr th {\n",
       "        vertical-align: top;\n",
       "    }\n",
       "\n",
       "    .dataframe thead th {\n",
       "        text-align: right;\n",
       "    }\n",
       "</style>\n",
       "<table border=\"1\" class=\"dataframe\">\n",
       "  <thead>\n",
       "    <tr style=\"text-align: right;\">\n",
       "      <th></th>\n",
       "      <th>total_bill</th>\n",
       "      <th>tip</th>\n",
       "      <th>sex</th>\n",
       "      <th>smoker</th>\n",
       "      <th>day</th>\n",
       "      <th>time</th>\n",
       "      <th>size</th>\n",
       "    </tr>\n",
       "  </thead>\n",
       "  <tbody>\n",
       "    <tr>\n",
       "      <th>0</th>\n",
       "      <td>16.99</td>\n",
       "      <td>1.01</td>\n",
       "      <td>Female</td>\n",
       "      <td>No</td>\n",
       "      <td>Sun</td>\n",
       "      <td>Dinner</td>\n",
       "      <td>2</td>\n",
       "    </tr>\n",
       "    <tr>\n",
       "      <th>1</th>\n",
       "      <td>10.34</td>\n",
       "      <td>1.66</td>\n",
       "      <td>Male</td>\n",
       "      <td>No</td>\n",
       "      <td>Sun</td>\n",
       "      <td>Dinner</td>\n",
       "      <td>3</td>\n",
       "    </tr>\n",
       "    <tr>\n",
       "      <th>2</th>\n",
       "      <td>21.01</td>\n",
       "      <td>3.50</td>\n",
       "      <td>Male</td>\n",
       "      <td>No</td>\n",
       "      <td>Sun</td>\n",
       "      <td>Dinner</td>\n",
       "      <td>3</td>\n",
       "    </tr>\n",
       "    <tr>\n",
       "      <th>3</th>\n",
       "      <td>23.68</td>\n",
       "      <td>3.31</td>\n",
       "      <td>Male</td>\n",
       "      <td>No</td>\n",
       "      <td>Sun</td>\n",
       "      <td>Dinner</td>\n",
       "      <td>2</td>\n",
       "    </tr>\n",
       "    <tr>\n",
       "      <th>4</th>\n",
       "      <td>24.59</td>\n",
       "      <td>3.61</td>\n",
       "      <td>Female</td>\n",
       "      <td>No</td>\n",
       "      <td>Sun</td>\n",
       "      <td>Dinner</td>\n",
       "      <td>4</td>\n",
       "    </tr>\n",
       "  </tbody>\n",
       "</table>\n",
       "</div>"
      ],
      "text/plain": [
       "   total_bill   tip     sex smoker  day    time  size\n",
       "0       16.99  1.01  Female     No  Sun  Dinner     2\n",
       "1       10.34  1.66    Male     No  Sun  Dinner     3\n",
       "2       21.01  3.50    Male     No  Sun  Dinner     3\n",
       "3       23.68  3.31    Male     No  Sun  Dinner     2\n",
       "4       24.59  3.61  Female     No  Sun  Dinner     4"
      ]
     },
     "execution_count": 15,
     "metadata": {},
     "output_type": "execute_result"
    }
   ],
   "source": [
    "# Print carregando o dataset\n",
    "df = sns.load_dataset('tips')\n",
    "\n",
    "# Print das primeiras linhas\n",
    "df.head()"
   ]
  },
  {
   "cell_type": "code",
   "execution_count": 18,
   "id": "5c3a14ca",
   "metadata": {
    "ExecuteTime": {
     "end_time": "2023-02-24T23:18:27.337569Z",
     "start_time": "2023-02-24T23:18:27.328824Z"
    }
   },
   "outputs": [
    {
     "data": {
      "text/plain": [
       "['Sun', 'Sat', 'Thur', 'Fri']\n",
       "Categories (4, object): ['Thur', 'Fri', 'Sat', 'Sun']"
      ]
     },
     "execution_count": 18,
     "metadata": {},
     "output_type": "execute_result"
    }
   ],
   "source": [
    "# df.day.unique() ou \n",
    "df['day'].unique()"
   ]
  },
  {
   "cell_type": "code",
   "execution_count": 19,
   "id": "8c59a6b8",
   "metadata": {
    "ExecuteTime": {
     "end_time": "2023-02-24T23:19:23.945511Z",
     "start_time": "2023-02-24T23:19:23.913113Z"
    }
   },
   "outputs": [
    {
     "name": "stdout",
     "output_type": "stream",
     "text": [
      "Tabela de frequência ABSOLUTA da coluna 'sex':\n"
     ]
    },
    {
     "data": {
      "text/plain": [
       "Male      157\n",
       "Female     87\n",
       "Name: sex, dtype: int64"
      ]
     },
     "metadata": {},
     "output_type": "display_data"
    }
   ],
   "source": [
    "# Print do Título\n",
    "print(\"Tabela de frequência ABSOLUTA da coluna 'sex':\")\n",
    "\n",
    "# Print da Tabela de Frequencia absoluta\n",
    "display(df[\"sex\"].value_counts())"
   ]
  },
  {
   "cell_type": "code",
   "execution_count": 20,
   "id": "917fda54",
   "metadata": {
    "ExecuteTime": {
     "end_time": "2023-02-24T23:20:57.020344Z",
     "start_time": "2023-02-24T23:20:56.992660Z"
    }
   },
   "outputs": [
    {
     "name": "stdout",
     "output_type": "stream",
     "text": [
      "Tabela de frequência RELATIVA da coluna 'sex':\n"
     ]
    },
    {
     "data": {
      "text/plain": [
       "Male      0.643443\n",
       "Female    0.356557\n",
       "Name: sex, dtype: float64"
      ]
     },
     "metadata": {},
     "output_type": "display_data"
    }
   ],
   "source": [
    "# Print do Título\n",
    "print(\"Tabela de frequência RELATIVA da coluna 'sex':\")\n",
    "\n",
    "# Print da Tabela de Frequencia absoluta\n",
    "display(df[\"sex\"].value_counts(normalize=True))"
   ]
  },
  {
   "cell_type": "code",
   "execution_count": 21,
   "id": "7b0db88d",
   "metadata": {
    "ExecuteTime": {
     "end_time": "2023-02-24T23:22:16.748446Z",
     "start_time": "2023-02-24T23:22:16.709687Z"
    }
   },
   "outputs": [
    {
     "name": "stdout",
     "output_type": "stream",
     "text": [
      "Tabela de frequência PERCENTUAL da coluna 'sex':\n"
     ]
    },
    {
     "data": {
      "text/plain": [
       "Male      64.344262\n",
       "Female    35.655738\n",
       "Name: sex, dtype: float64"
      ]
     },
     "metadata": {},
     "output_type": "display_data"
    },
    {
     "data": {
      "text/plain": [
       "Male      64.34%\n",
       "Female    35.66%\n",
       "Name: sex, dtype: object"
      ]
     },
     "execution_count": 21,
     "metadata": {},
     "output_type": "execute_result"
    }
   ],
   "source": [
    "# Print do Titulo\n",
    "print(\"Tabela de frequência PERCENTUAL da coluna 'sex':\")\n",
    "\n",
    "# Print da Tabela de Frequencia Percentual\n",
    "display(df[\"sex\"].value_counts(normalize=True)*100)\n",
    "\n",
    "# se quiser colocar as porcentagens, tem que transformar em string, e concatenar com o \"%\"\n",
    "df[\"sex\"].value_counts(normalize=True).apply(lambda x: str(round(x*100, 2)) + \"%\")"
   ]
  },
  {
   "cell_type": "code",
   "execution_count": 22,
   "id": "2619ad99",
   "metadata": {
    "ExecuteTime": {
     "end_time": "2023-02-24T23:24:18.764996Z",
     "start_time": "2023-02-24T23:24:18.742435Z"
    }
   },
   "outputs": [
    {
     "data": {
      "text/plain": [
       "count    244.000000\n",
       "mean      19.785943\n",
       "std        8.902412\n",
       "min        3.070000\n",
       "25%       13.347500\n",
       "50%       17.795000\n",
       "75%       24.127500\n",
       "max       50.810000\n",
       "Name: total_bill, dtype: float64"
      ]
     },
     "execution_count": 22,
     "metadata": {},
     "output_type": "execute_result"
    }
   ],
   "source": [
    "# Vamos fazer um describe da coluna total_bill\n",
    "df[\"total_bill\"].describe()"
   ]
  },
  {
   "cell_type": "code",
   "execution_count": 23,
   "id": "72d992ab",
   "metadata": {
    "ExecuteTime": {
     "end_time": "2023-02-24T23:25:37.862795Z",
     "start_time": "2023-02-24T23:25:37.813590Z"
    }
   },
   "outputs": [
    {
     "name": "stdout",
     "output_type": "stream",
     "text": [
      "Média de gorjeta: 2.99827868852459\n",
      "Desvio padrão de gorjetas: 1.3836381890011826\n",
      "\n",
      "Gorjeta mínima: 1.0\n",
      "\n",
      "Gorjeta Q1: 2.0\n",
      "Mediana de Gorjetas: 2.9\n",
      "Gorjeta Q3: 3.5625\n",
      "IQR das Gorjetas: 1.5625\n",
      "\n",
      "Gorjeta máxima: 10.0\n",
      "\n",
      "Skewness das Gorjetas: 1.4654510370979401\n",
      "\n",
      " Gorjeta(s) mais comum(s):\n"
     ]
    },
    {
     "data": {
      "text/plain": [
       "0    2.0\n",
       "Name: tip, dtype: float64"
      ]
     },
     "metadata": {},
     "output_type": "display_data"
    }
   ],
   "source": [
    "# Calculo das Metricas para o tip\n",
    "print(\"Média de gorjeta:\", df[\"tip\"].mean())\n",
    "print(\"Desvio padrão de gorjetas:\", df[\"tip\"].std())\n",
    "print(\"\\nGorjeta mínima:\", df[\"tip\"].min())\n",
    "print(\"\\nGorjeta Q1:\", df[\"tip\"].quantile(0.25))\n",
    "print(\"Mediana de Gorjetas:\", df[\"tip\"].median())\n",
    "print(\"Gorjeta Q3:\", df[\"tip\"].quantile(0.75))\n",
    "print(\"IQR das Gorjetas:\", df[\"tip\"].quantile(0.75) - df[\"tip\"].quantile(0.25))\n",
    "print(\"\\nGorjeta máxima:\", df[\"tip\"].max())\n",
    "print(\"\\nSkewness das Gorjetas:\", df[\"tip\"].skew())\n",
    "print(\"\\n Gorjeta(s) mais comum(s):\")\n",
    "display(df[\"tip\"].mode())"
   ]
  },
  {
   "cell_type": "code",
   "execution_count": 24,
   "id": "4b22a9f1",
   "metadata": {
    "ExecuteTime": {
     "end_time": "2023-02-24T23:29:50.581194Z",
     "start_time": "2023-02-24T23:29:50.557232Z"
    }
   },
   "outputs": [
    {
     "data": {
      "text/html": [
       "<div>\n",
       "<style scoped>\n",
       "    .dataframe tbody tr th:only-of-type {\n",
       "        vertical-align: middle;\n",
       "    }\n",
       "\n",
       "    .dataframe tbody tr th {\n",
       "        vertical-align: top;\n",
       "    }\n",
       "\n",
       "    .dataframe thead th {\n",
       "        text-align: right;\n",
       "    }\n",
       "</style>\n",
       "<table border=\"1\" class=\"dataframe\">\n",
       "  <thead>\n",
       "    <tr style=\"text-align: right;\">\n",
       "      <th></th>\n",
       "      <th>total_bill</th>\n",
       "      <th>tip</th>\n",
       "      <th>size</th>\n",
       "    </tr>\n",
       "  </thead>\n",
       "  <tbody>\n",
       "    <tr>\n",
       "      <th>total_bill</th>\n",
       "      <td>1.000000</td>\n",
       "      <td>0.675734</td>\n",
       "      <td>0.598315</td>\n",
       "    </tr>\n",
       "    <tr>\n",
       "      <th>tip</th>\n",
       "      <td>0.675734</td>\n",
       "      <td>1.000000</td>\n",
       "      <td>0.489299</td>\n",
       "    </tr>\n",
       "    <tr>\n",
       "      <th>size</th>\n",
       "      <td>0.598315</td>\n",
       "      <td>0.489299</td>\n",
       "      <td>1.000000</td>\n",
       "    </tr>\n",
       "  </tbody>\n",
       "</table>\n",
       "</div>"
      ],
      "text/plain": [
       "            total_bill       tip      size\n",
       "total_bill    1.000000  0.675734  0.598315\n",
       "tip           0.675734  1.000000  0.489299\n",
       "size          0.598315  0.489299  1.000000"
      ]
     },
     "execution_count": 24,
     "metadata": {},
     "output_type": "execute_result"
    }
   ],
   "source": [
    "# Avaliando a Correlação\n",
    "corr = df.corr(method='pearson', numeric_only=True)\n",
    "\n",
    "# Mostra a correlação\n",
    "corr"
   ]
  },
  {
   "cell_type": "code",
   "execution_count": 26,
   "id": "1492538f",
   "metadata": {
    "ExecuteTime": {
     "end_time": "2023-02-24T23:30:28.886223Z",
     "start_time": "2023-02-24T23:30:28.452720Z"
    }
   },
   "outputs": [
    {
     "data": {
      "image/png": "[encoded data removed]",
      "text/plain": [
       "<Figure size 800x600 with 2 Axes>"
      ]
     },
     "metadata": {},
     "output_type": "display_data"
    }
   ],
   "source": [
    "# Define o tamanho da figura\n",
    "plt.figure(figsize=(8, 6))\n",
    "\n",
    "# Define o Titulo\n",
    "plt.title(\"Correlações\", size=18)\n",
    "\n",
    "# Mapa de Calor da Correlação\n",
    "sns.heatmap(corr, annot = corr)\n",
    "\n",
    "# Mostra o Gráfico\n",
    "plt.show()"
   ]
  },
  {
   "cell_type": "code",
   "execution_count": 29,
   "id": "33f36457",
   "metadata": {
    "ExecuteTime": {
     "end_time": "2023-02-24T23:33:55.210310Z",
     "start_time": "2023-02-24T23:33:54.687876Z"
    }
   },
   "outputs": [
    {
     "data": {
      "image/png": "[encoded data removed]",
      "text/plain": [
       "<Figure size 1200x600 with 1 Axes>"
      ]
     },
     "metadata": {},
     "output_type": "display_data"
    }
   ],
   "source": [
    "# Define o tamanho da figura\n",
    "plt.figure(figsize=(12, 6))\n",
    "\n",
    "# Define o Titulo\n",
    "plt.title(\"Distribuição das Gorjetas\", size=18)\n",
    "\n",
    "# Plot do Histograma\n",
    "sns.histplot(df[\"tip\"], kde=True, alpha=0.2)\n",
    "\n",
    "# plotando média\n",
    "plt.axvline(x=df[\"tip\"].mean(), color=\"red\", label=\"média\")\n",
    "\n",
    "# plotando a mediana\n",
    "plt.axvline(df[\"tip\"].median(), color=\"green\", label=\"mediana\")\n",
    "\n",
    "# Loop para plotar as modas\n",
    "for i in range(df[\"tip\"].mode().shape[0]):\n",
    "    plt.axvline(df[\"tip\"].mode()[i], color=\"yellow\", label=\"moda\")\n",
    "\n",
    "# Cria uma legenda\n",
    "plt.legend()\n",
    "\n",
    "# Mostra o Gráfico\n",
    "plt.show()"
   ]
  },
  {
   "cell_type": "code",
   "execution_count": 32,
   "id": "da3b7dd6",
   "metadata": {
    "ExecuteTime": {
     "end_time": "2023-02-24T23:40:16.732249Z",
     "start_time": "2023-02-24T23:40:16.507699Z"
    },
    "scrolled": false
   },
   "outputs": [
    {
     "data": {
      "image/png": "[encoded data removed]",
      "text/plain": [
       "<Figure size 800x400 with 1 Axes>"
      ]
     },
     "metadata": {},
     "output_type": "display_data"
    }
   ],
   "source": [
    "# Define o tamanho da figuta\n",
    "plt.figure(figsize=(8, 4))\n",
    "\n",
    "# Cria um BoxPlot\n",
    "sns.boxplot(data=df, x=\"tip\")\n",
    "\n",
    "#Mostra o gráfico\n",
    "plt.show()"
   ]
  },
  {
   "cell_type": "code",
   "execution_count": 33,
   "id": "4e13d6b4",
   "metadata": {
    "ExecuteTime": {
     "end_time": "2023-02-24T23:43:13.594922Z",
     "start_time": "2023-02-24T23:43:13.269662Z"
    }
   },
   "outputs": [
    {
     "data": {
      "image/png": "[encoded data removed]",
      "text/plain": [
       "<Figure size 1200x600 with 1 Axes>"
      ]
     },
     "metadata": {},
     "output_type": "display_data"
    }
   ],
   "source": [
    "# Define o tamanho da figuta\n",
    "plt.figure(figsize=(12, 6))\n",
    "\n",
    "# Cria um BoxPlot\n",
    "sns.violinplot(data=df, x=\"tip\")\n",
    "\n",
    "#Mostra o gráfico\n",
    "plt.show()"
   ]
  },
  {
   "cell_type": "code",
   "execution_count": 34,
   "id": "cb13ffcd",
   "metadata": {
    "ExecuteTime": {
     "end_time": "2023-02-24T23:43:26.310173Z",
     "start_time": "2023-02-24T23:43:25.947713Z"
    }
   },
   "outputs": [
    {
     "data": {
      "image/png": "[encoded data removed]",
      "text/plain": [
       "<Figure size 640x480 with 1 Axes>"
      ]
     },
     "metadata": {},
     "output_type": "display_data"
    }
   ],
   "source": [
    "# Plot do Boxplot\n",
    "sns.boxplot(data=df, y=\"tip\", x=\"time\", hue=\"sex\")\n",
    "\n",
    "# Mostra o gráfico\n",
    "plt.show()"
   ]
  },
  {
   "cell_type": "code",
   "execution_count": 35,
   "id": "c9ea882e",
   "metadata": {
    "ExecuteTime": {
     "end_time": "2023-02-24T23:43:48.251937Z",
     "start_time": "2023-02-24T23:43:47.782873Z"
    }
   },
   "outputs": [
    {
     "data": {
      "image/png": "[encoded data removed]",
      "text/plain": [
       "<Figure size 640x480 with 1 Axes>"
      ]
     },
     "metadata": {},
     "output_type": "display_data"
    }
   ],
   "source": [
    "# Plot do Boxplot\n",
    "sns.violinplot(data=df, y=\"tip\", x=\"time\", hue=\"sex\")\n",
    "\n",
    "# Mostra o gráfico\n",
    "plt.show()"
   ]
  },
  {
   "cell_type": "markdown",
   "id": "de154da3",
   "metadata": {},
   "source": [
    "Exercício:\n",
    "__1)__ Façam a análise exploratória sobre a base de dados _mpg_, levante eventuais _outliers_, olhe para a consistência de dados e crie visualizações que achar necessárias.<br><br>"
   ]
  },
  {
   "cell_type": "code",
   "execution_count": null,
   "id": "9630a1ca",
   "metadata": {
    "ExecuteTime": {
     "end_time": "2023-02-17T17:36:59.378346Z",
     "start_time": "2023-02-17T17:36:59.348675Z"
    }
   },
   "outputs": [],
   "source": [
    "mpg = sns.load_dataset('mpg')\n",
    "\n",
    "mpg.head()"
   ]
  },
  {
   "cell_type": "code",
   "execution_count": null,
   "id": "c4f17ffe",
   "metadata": {},
   "outputs": [],
   "source": [
    "media, mediana, std, var, IQR, q1, etc...."
   ]
  }
 ],
 "metadata": {
  "kernelspec": {
   "display_name": "Python 3 (ipykernel)",
   "language": "python",
   "name": "python3"
  },
  "language_info": {
   "codemirror_mode": {
    "name": "ipython",
    "version": 3
   },
   "file_extension": ".py",
   "mimetype": "text/x-python",
   "name": "python",
   "nbconvert_exporter": "python",
   "pygments_lexer": "ipython3",
   "version": "3.10.9"
  },
  "varInspector": {
   "cols": {
    "lenName": 16,
    "lenType": 16,
    "lenVar": 40
   },
   "kernels_config": {
    "python": {
     "delete_cmd_postfix": "",
     "delete_cmd_prefix": "del ",
     "library": "var_list.py",
     "varRefreshCmd": "print(var_dic_list())"
    },
    "r": {
     "delete_cmd_postfix": ") ",
     "delete_cmd_prefix": "rm(",
     "library": "var_list.r",
     "varRefreshCmd": "cat(var_dic_list()) "
    }
   },
   "types_to_exclude": [
    "module",
    "function",
    "builtin_function_or_method",
    "instance",
    "_Feature"
   ],
   "window_display": false
  }
 },
 "nbformat": 4,
 "nbformat_minor": 5
}
