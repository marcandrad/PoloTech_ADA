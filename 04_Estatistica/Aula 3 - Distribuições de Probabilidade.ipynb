{
 "cells": [
  {
   "cell_type": "markdown",
   "id": "948dcd6e",
   "metadata": {},
   "source": [
    "# 03 - Distribuições de Probabilidade\n",
    "\n",
    "Nessa aula, iremos tratar dos seguintes conteúdos:\n",
    "- Tipos de Variáveis Aleatórias\n",
    "- Esperança e Variância\n",
    "- Distribuição de Probabilidade\n",
    "- Distribuição - Bernoulli e Binomial\n",
    "- Distribuição Poisson\n",
    "- Distribuição Exponencial\n",
    "- Distribuição Uniforme"
   ]
  },
  {
   "cell_type": "markdown",
   "id": "050eb5b9",
   "metadata": {},
   "source": [
    "<img src = \"https://miro.medium.com/max/450/1*FSuKbxt4bLeqTrlbhg3hQQ.gif\">"
   ]
  },
  {
   "cell_type": "markdown",
   "id": "c037c5b5",
   "metadata": {},
   "source": [
    "<img src = \"http://storage.ning.com/topology/rest/1.0/file/get/1490420457?profile=original\" width=800>"
   ]
  },
  {
   "cell_type": "markdown",
   "id": "5d12324b",
   "metadata": {},
   "source": [
    "## "
   ]
  },
  {
   "cell_type": "code",
   "execution_count": 1,
   "id": "bddc08b0",
   "metadata": {
    "ExecuteTime": {
     "end_time": "2023-02-27T23:55:34.013007Z",
     "start_time": "2023-02-27T23:55:24.260801Z"
    }
   },
   "outputs": [],
   "source": [
    "import pandas as pd\n",
    "import numpy as np\n",
    "import matplotlib.pyplot as plt\n",
    "import seaborn as sns"
   ]
  },
  {
   "cell_type": "markdown",
   "id": "b2265f1a",
   "metadata": {},
   "source": [
    "## Tipos de Variáveis Aleatórias\n",
    "\n",
    "\n",
    "<br>\n",
    "\n",
    "Vimos que uma __variável aleatória__ é uma variável cujo valor depende de fatores não determinísticos, ou melhor dizendo __probabilísticos__. Detalhando um pouco mais sobre as variáveis aleatórias, existem dois tipos mais comuns que vamos trabalhar no nosso curso, sendo elas:\n",
    "\n",
    "- __Discreta:__ são as variáveis aleatórias que a distribuição de probabilidade assume apenas valores enumeráveis;\n",
    "\n",
    "- __Contínua:__ são as variáveis aleatórias que a distribuição de probabilidade assume valores contínuos dentro de um intervalo pré-determinado.\n",
    "\n",
    "Mas para realmente entendermos a diferença entre cada uma delas, precisamos definir o que são __distribuições de probabilidade__."
   ]
  },
  {
   "cell_type": "markdown",
   "id": "9c945135",
   "metadata": {},
   "source": [
    "## "
   ]
  },
  {
   "cell_type": "markdown",
   "id": "81d9f9d7",
   "metadata": {},
   "source": [
    "## Distribuições de Probabilidade\n",
    "\n",
    "<br>\n",
    "\n",
    "Uma **distribuição de probabilidade** é uma função que descreve o comportamento aleatório de um fenômeno dependente do acaso.\n",
    "\n",
    "A distribuição de probabilidade pode **modelar incertezas** e descrever fenômenos físicos, biológicos, econômicos, entre outros.\n",
    "\n",
    "A representação matemática para a distribuição de probabilidade é feita utilizando o que chamamos de __função de densidade de probabilidade__. Para cada um dos casos de variáveis aleatórias temos uma definição de densidade de probabilidade, conforme veremos agora:\n",
    "\n",
    "- __Discretas:__ Para o caso das variáveis aleatórias discretas a definição matemática para a função de densidade de probabilidade, pode ser dada da seguinte forma:\n",
    "\n",
    "$$ P(X = x) = F(X) $$\n",
    "\n",
    "Ou seja, para o caso discreto, a variável aleatória assume é uma função que assume um valor real para cada elemento do espaço amostral. Partir das definições gerais para probabilidade, são conhecidas as seguintes são sempre válidas:\n",
    "\n",
    "- $ 0 \\leq P(X = x) \\leq 1 $;\n",
    "\n",
    "<br>\n",
    "\n",
    "- $ P(X = x) \\geq 0 $;\n",
    "\n",
    "<br>\n",
    "\n",
    "- $ \\sum_{i=1}^{\\infty} P(X = x_{i}) = 1 $ ;\n",
    "\n",
    "<br>\n",
    "\n",
    "- $ P(a \\leq X \\leq b) = \\sum_{x = a}^{x = b} P(X = x)$;"
   ]
  },
  {
   "cell_type": "markdown",
   "id": "ea61d446",
   "metadata": {},
   "source": [
    "## "
   ]
  },
  {
   "cell_type": "markdown",
   "id": "644febd0",
   "metadata": {},
   "source": [
    "- __Contínuas:__ Para o caso das variáveis aleatórias contínuas a definição matemática para a função de densidade de probabilidade, pode ser dada da seguinte forma:\n",
    "\n",
    "$$ P(X) = \\int p(x) \\,dx $$\n",
    "\n",
    "Da mesma forma que para o caso discreto, vamos definir algumas relações conhecidas as v. a. contínuas:\n",
    "\n",
    "- $ p(x) \\geq 0, \\forall x \\in \\mathbb{R}$;\n",
    "\n",
    "<br>\n",
    "\n",
    "- $ \\int_{-\\infty}^{\\infty} p(x) \\,dx = 1 $ ;\n",
    "\n",
    "<br>\n",
    "\n",
    "- $ P(a \\leq X \\leq b) = \\int_{a}^{b} p(x) \\,dx$;\n",
    "\n",
    "<br>\n",
    "\n",
    "Uma outra forma de interpretarmos a probabilidade de uma dada distribuição entre o intervalo $a$ e $b$, seria como a área abaixo ao gráfico da função de densidade de probabilidade:\n",
    "\n",
    "<img src=\"https://work.thaslwanter.at/Stats/html/_images/PDF.png\" width=400>\n"
   ]
  },
  {
   "cell_type": "markdown",
   "id": "9e47011b",
   "metadata": {},
   "source": [
    "## "
   ]
  },
  {
   "cell_type": "markdown",
   "id": "afd4c286",
   "metadata": {},
   "source": [
    "## Valor Esperado (Esperança) e Variância\n",
    "\n",
    "<br>\n",
    "\n",
    "Assim como no caso da Estatística Descritiva, no casos de modelos probabilísticos também existem parâmetros de posição e variabilidade utilizada para caracterizar uma distribuição de probabilidade:\n",
    "\n",
    "- __Valor Esperado (Esperança):__ O valor esperado seria o produto da variável aleatória $x$ e sua respectiva probabilidade, funcionando como se fosse uma média ponderada para as probabilidades. O cálculo do valor esperado é definido da seguinte forma:\n",
    "\n",
    "\n",
    "__Caso Discreto:__  $ E[X] = \\sum xP(X = x) $\n",
    "\n",
    "\n",
    "__Caso Contínuo:__  $ E[X] = \\int xp(x) dx $\n",
    "\n",
    "<br><br>\n",
    "\n",
    "- __Variância:__ A variância é o valor que mede a variabilidade, ou seja o quão dispersão estão as probabilidade em relação ao valor esperado. A variância é definida da seguinte forma:\n",
    "\n",
    "<br>\n",
    "\n",
    "$$ V[X] = \\sigma^{2} = E[(X - E[X])^2] = E[X^2] - E[X]^2$$\n",
    "\n",
    "<br>\n",
    "Onde, $ E[X^2] = \\sum x^2P(X = x)$."
   ]
  },
  {
   "cell_type": "markdown",
   "id": "4ca44d14",
   "metadata": {},
   "source": [
    "__Exemplo:__ Seja a variável aleatória X com distribuição abaixo, calcule $E[X]$ e $V[X]$:\n",
    " \n",
    "- P(X = 1) = 0.3\n",
    "- P(X = 2) = 0.4\n",
    "- P(X = 3) = 0.2 \n",
    "- P(X = 4) = 0.1"
   ]
  },
  {
   "cell_type": "code",
   "execution_count": 2,
   "id": "7e99cd46",
   "metadata": {
    "ExecuteTime": {
     "end_time": "2023-02-28T00:17:06.486619Z",
     "start_time": "2023-02-28T00:17:06.463658Z"
    }
   },
   "outputs": [
    {
     "name": "stdout",
     "output_type": "stream",
     "text": [
      "Valor esperado:  2.1\n",
      "Variância:       0.89\n"
     ]
    }
   ],
   "source": [
    "# Vetor de eventos\n",
    "X = [1, 2, 3, 4]\n",
    "\n",
    "# Vetor de probabilidades\n",
    "P = [0.3, 0.4, 0.2, 0.1]\n",
    "\n",
    "# Valor esperado\n",
    "esp = np.dot(X, P)  # dot multiplica\n",
    "\n",
    "# print do valor esperado\n",
    "print(\"Valor esperado: \", np.round(esp, 2))\n",
    "\n",
    "# Variância\n",
    "var = np.round(np.dot(np.power(X, 2), P) - np.power(esp, 2), 2)\n",
    "\n",
    "# print da variância\n",
    "print(\"Variância:      \", var)"
   ]
  },
  {
   "cell_type": "markdown",
   "id": "efd9edc5",
   "metadata": {},
   "source": [
    "__Exemplo:__ A variável X tem função de densidade de probabilidade dada por:\n",
    "\n",
    "- $f(x) = \\frac{x^2}{3}$, se $ -1 \\leq x \\leq 2$, caso contrário seria 0."
   ]
  },
  {
   "cell_type": "code",
   "execution_count": 3,
   "id": "a916ced9",
   "metadata": {
    "ExecuteTime": {
     "end_time": "2023-02-28T00:24:05.400578Z",
     "start_time": "2023-02-28T00:24:05.377883Z"
    }
   },
   "outputs": [
    {
     "name": "stdout",
     "output_type": "stream",
     "text": [
      "Valor Esperado:  1.25\n",
      "Erro da Integral:  1.5728145305099745e-14\n",
      "Variância:       0.6375000000000002\n",
      "Erro da Integral:  2.4424906541753447e-14\n"
     ]
    }
   ],
   "source": [
    "from scipy.integrate import quad\n",
    "\n",
    "# Função para a equação do valor esperado\n",
    "def f1(x):\n",
    "    return x*(x*x)/3\n",
    "\n",
    "# Calculo da integral e o erro\n",
    "esp, err1 = quad(f1, -1, 2)\n",
    "\n",
    "# Print do Valor esperado\n",
    "print(\"Valor Esperado: \", esp)\n",
    "print(\"Erro da Integral: \", err1)\n",
    "\n",
    "# Função para a equação do valor esperado x^2\n",
    "def f2(x):\n",
    "    return (x*x)*(x*x)/3\n",
    "\n",
    "# Integral de x^2\n",
    "esp_x2, err2 = quad(f2, -1, 2)\n",
    "\n",
    "# Calculo da variância\n",
    "var = esp_x2 - esp*esp\n",
    "\n",
    "# Print da Variância\n",
    "print(\"Variância:      \", var)\n",
    "print(\"Erro da Integral: \", err2)"
   ]
  },
  {
   "cell_type": "markdown",
   "id": "f02e294e",
   "metadata": {},
   "source": [
    "## "
   ]
  },
  {
   "cell_type": "markdown",
   "id": "516ffd12",
   "metadata": {},
   "source": [
    "## Distribuições\n",
    "\n",
    "Nos próximos tópicos, vamos apresentar algumas das principais distribuições utilizadas!"
   ]
  },
  {
   "cell_type": "markdown",
   "id": "0e767ff6",
   "metadata": {},
   "source": [
    "## "
   ]
  },
  {
   "cell_type": "markdown",
   "id": "549ff76a",
   "metadata": {},
   "source": [
    "## Distribuição de Bernoulli/Binomial\n",
    "\n",
    "A distribuição de Bernoulli  é uma distribuição discreta para um espaço amostral $k \\in \\{0, 1\\}$, baseando a probabilidade em __sucessos__ e __falhas__. Onde a probabilidade de sucesso de um evento ($k = 1$) é igual a $p$ e a probabilidade de falha ($k = 0$) seria o valor complementar $1 - p$. A função que descreve a distribuição de Bernoulli pode ser definida como:\n",
    "\n",
    "<br>\n",
    "\n",
    "$$ P(X = k) = p^{k}(1-p)^{(1-k)} $$\n",
    "\n",
    "<br>\n",
    "Os valores para o valor esperado e a variância para a distribuição de Bernoulli serão respectivamente:\n",
    "\n",
    "- __Valor Esperado:__ $ E[X] = p $;\n",
    "\n",
    "- __Variância:__ $ V[X] = p(1-p)$.\n",
    "\n",
    "<br>\n",
    "\n",
    "Mas o caso da distribuição de Bernoulli, tratamos apenas para um evento isolado, como por exemplo o lançamento de uma moeda. Quando trabalhamos com eventos __com repetições__, utiliza-se o caso geral da distribuição de Bernoulli que seria uma __Distribuição Binomial.__\n"
   ]
  },
  {
   "cell_type": "markdown",
   "id": "82bee09e",
   "metadata": {},
   "source": [
    "### Distribuição Binomial\n",
    "\n",
    "Seja a variável aleatória baseado em $n$ repetições de Bernoulli, temos que a definição da distribuição Binomial é dada por:\n",
    "\n",
    "$$ P(X = k) = \\binom{n}{k}p^{k}(1-p)^{(n-k)} = \\frac{n!}{k!(n - k)!}p^{k}(1-p)^{(n-k)}$$\n",
    "\n",
    "<br>\n",
    "Os valores para o valor esperado e a variância para a distribuição Binomial serão respectivamente:\n",
    "\n",
    "- __Valor Esperado:__ $ E[X] = np $;\n",
    "\n",
    "- __Variância:__ $ V[X] = np(1-p)$."
   ]
  },
  {
   "cell_type": "code",
   "execution_count": 8,
   "id": "3a5c8129",
   "metadata": {
    "ExecuteTime": {
     "end_time": "2023-02-28T00:35:06.891560Z",
     "start_time": "2023-02-28T00:35:06.868445Z"
    },
    "scrolled": true
   },
   "outputs": [
    {
     "data": {
      "text/plain": [
       "1    0.79958\n",
       "0    0.20042\n",
       "dtype: float64"
      ]
     },
     "execution_count": 8,
     "metadata": {},
     "output_type": "execute_result"
    }
   ],
   "source": [
    "pd.Series(np.random.binomial(1, 0.8, 100000)).value_counts(normalize=True)"
   ]
  },
  {
   "cell_type": "code",
   "execution_count": 11,
   "id": "e008620d",
   "metadata": {
    "ExecuteTime": {
     "end_time": "2023-02-28T00:37:29.470356Z",
     "start_time": "2023-02-28T00:37:29.445815Z"
    }
   },
   "outputs": [
    {
     "data": {
      "text/plain": [
       "3    0.51386\n",
       "2    0.38361\n",
       "1    0.09473\n",
       "0    0.00780\n",
       "dtype: float64"
      ]
     },
     "execution_count": 11,
     "metadata": {},
     "output_type": "execute_result"
    }
   ],
   "source": [
    "pd.Series(np.random.binomial(3, 0.8, 100000)).value_counts(normalize=True)"
   ]
  },
  {
   "cell_type": "markdown",
   "id": "db10e97e",
   "metadata": {},
   "source": [
    "__Exemplo:__ Em uma caixa há 8 bolas brancas e 4 pretas. Retira-se 5 bolas com reposição. Calcule a probabilidade de que:\n",
    "\n",
    "__A)__ saiam duas bolas brancas:"
   ]
  },
  {
   "cell_type": "code",
   "execution_count": 12,
   "id": "786f691d",
   "metadata": {
    "ExecuteTime": {
     "end_time": "2023-02-28T00:42:25.917647Z",
     "start_time": "2023-02-28T00:42:25.902276Z"
    }
   },
   "outputs": [],
   "source": [
    "from math import factorial\n",
    "\n",
    "\n",
    "def binomial(n, p, k):\n",
    "    C = (factorial(n) / (factorial(n - k) * factorial(k)))\n",
    "    return C * np.power(p, k) * np.power(1 - p, n - k)"
   ]
  },
  {
   "cell_type": "code",
   "execution_count": 13,
   "id": "3578f47d",
   "metadata": {
    "ExecuteTime": {
     "end_time": "2023-02-28T00:42:40.337919Z",
     "start_time": "2023-02-28T00:42:40.316123Z"
    }
   },
   "outputs": [
    {
     "name": "stdout",
     "output_type": "stream",
     "text": [
      "A probabilidade será:  0.1646\n"
     ]
    }
   ],
   "source": [
    "# número de retiradas:\n",
    "n = 5\n",
    "\n",
    "# número de bolas brancas\n",
    "k = 2\n",
    "\n",
    "# probabilidade de uma bola branca\n",
    "p = 8/12\n",
    "\n",
    "# print do resultado teorico\n",
    "print(\"A probabilidade será: \", np.round(binomial(n, p, k), 4))"
   ]
  },
  {
   "cell_type": "markdown",
   "id": "80f9cbe5",
   "metadata": {},
   "source": [
    "__B)__ saiam pelo menos 3 pretas:"
   ]
  },
  {
   "cell_type": "code",
   "execution_count": 14,
   "id": "a13122e0",
   "metadata": {
    "ExecuteTime": {
     "end_time": "2023-02-28T00:44:28.930919Z",
     "start_time": "2023-02-28T00:44:28.909731Z"
    }
   },
   "outputs": [
    {
     "name": "stdout",
     "output_type": "stream",
     "text": [
      "A probabilidade será:  0.2099\n"
     ]
    }
   ],
   "source": [
    "# numero de retiradas\n",
    "n = 5\n",
    "\n",
    "# probabilidade de uma bola preta\n",
    "p = 4/12\n",
    "\n",
    "# calculando a probabilidade acumulativa\n",
    "prop = 0\n",
    "for k in range(3, 6):\n",
    "    prop += binomial(n, p, k)\n",
    "\n",
    "# PRint da probabilidade\n",
    "print(\"A probabilidade será: \", np.round(prop, 4))"
   ]
  },
  {
   "cell_type": "markdown",
   "id": "46b0cce8",
   "metadata": {},
   "source": [
    "## "
   ]
  },
  {
   "cell_type": "markdown",
   "id": "2e5389eb",
   "metadata": {},
   "source": [
    "## Distribuição de Poisson"
   ]
  },
  {
   "cell_type": "markdown",
   "id": "74a28c56",
   "metadata": {},
   "source": [
    "Uma variável aleatória tem distribuição de Poisson quando podemos descrever um evento em relação ao uma taxa/contagem de ocorrência, normalmente chamada de $ \\lambda $, sendo $ \\lambda > 0$. Dessa forma a equação para a distribuição de Poisson será definida como:\n",
    "\n",
    "$$ P(X = k) = \\frac{e^{-\\lambda}\\lambda^{k}}{k!} $$\n",
    "\n",
    "<br>\n",
    "Os valores para o valor esperado e a variância para a distribuição de Poisson serão respectivamente:\n",
    "\n",
    "- __Valor Esperado:__ $ E[X] = \\lambda $;\n",
    "\n",
    "- __Variância:__ $ V[X] = \\lambda$."
   ]
  },
  {
   "cell_type": "markdown",
   "id": "16712ed5",
   "metadata": {},
   "source": [
    "__Exemplo:__ Em uma central telefônica chegam 300 ligações por hora. Sabendo que segue uma distribuição de Poisson, qual é a probabilidade de que:\n",
    "   \n",
    "__A)__ Em um minuto não ocorra ligações;"
   ]
  },
  {
   "cell_type": "code",
   "execution_count": 15,
   "id": "537b7e4a",
   "metadata": {
    "ExecuteTime": {
     "end_time": "2023-02-28T00:50:01.167542Z",
     "start_time": "2023-02-28T00:50:01.148592Z"
    }
   },
   "outputs": [
    {
     "name": "stdout",
     "output_type": "stream",
     "text": [
      "P(k = 0) =  0.006737946999085467\n"
     ]
    }
   ],
   "source": [
    "def Poisson(lbd, k):\n",
    "    return np.exp(-lbd) * (lbd**k) / factorial(k)\n",
    "\n",
    "lbd = 5 # 300 chamadas / 60 minutos = 5 chamadas por minuto\n",
    "\n",
    "# frequência procurada\n",
    "k = 0\n",
    "\n",
    "# print do resultado:\n",
    "print(\"P(k = 0) = \", Poisson(lbd,k))"
   ]
  },
  {
   "cell_type": "markdown",
   "id": "a1ec8942",
   "metadata": {},
   "source": [
    "__B)__ Em 2 minutos ocorram 2 chamadas;"
   ]
  },
  {
   "cell_type": "code",
   "execution_count": 17,
   "id": "231db8eb",
   "metadata": {
    "ExecuteTime": {
     "end_time": "2023-02-28T00:51:52.183491Z",
     "start_time": "2023-02-28T00:51:52.167299Z"
    }
   },
   "outputs": [
    {
     "name": "stdout",
     "output_type": "stream",
     "text": [
      "P(k = 2) =  0.0022699964881242427\n"
     ]
    }
   ],
   "source": [
    "lbd = 10 # número de chamadas no intervalo de tempo de 2 min\n",
    "\n",
    "# frequencia procurada\n",
    "k = 2\n",
    "\n",
    "# print do resultado:\n",
    "print(\"P(k = 2) = \", Poisson(lbd,k))"
   ]
  },
  {
   "cell_type": "markdown",
   "id": "8824e45e",
   "metadata": {},
   "source": [
    "C) 1 chamada em 1 minuto"
   ]
  },
  {
   "cell_type": "code",
   "execution_count": 18,
   "id": "65e48fb9",
   "metadata": {
    "ExecuteTime": {
     "end_time": "2023-02-28T00:54:49.965804Z",
     "start_time": "2023-02-28T00:54:49.953696Z"
    }
   },
   "outputs": [
    {
     "name": "stdout",
     "output_type": "stream",
     "text": [
      "P(k = 1) =  0.03368973499542734\n"
     ]
    }
   ],
   "source": [
    "lbd = 5 # número de chamadas no intervalo de tempo de 1 min\n",
    "\n",
    "# frequencia procurada\n",
    "k = 1\n",
    "\n",
    "# print do resultado:\n",
    "print(\"P(k = 1) = \", Poisson(lbd,k))"
   ]
  },
  {
   "cell_type": "markdown",
   "id": "4a26860c",
   "metadata": {},
   "source": [
    "## Distribuição Exponencial"
   ]
  },
  {
   "cell_type": "markdown",
   "id": "aa60e89b",
   "metadata": {},
   "source": [
    "Uma variável aleatória continua tem uma distribuição Exponencial quando queremos avaliar o tempo decorrido entre dois eventos consecutivos, diferente do Poisson que avalia de acordo com uma contagem de ocorrências em um espaço de tempo. A função densidade de probabilidade que descreve a distribuição exponencial pode ser descrita como:\n",
    "\n",
    "$$ f(x) = \\alpha e^{-\\alpha x}, x \\geq 0 $$\n",
    "\n",
    "No caso para $x < 0$, a probabilidade de $f(x) = 0$\n",
    "\n",
    "<br>\n",
    "Os valores para o valor esperado e a variância para a distribuição exponencial serão respectivamente:\n",
    "\n",
    "- __Valor Esperado:__ $ E[X] = \\frac{1}{\\alpha} $;\n",
    "\n",
    "- __Variância:__ $ V[X] = \\frac{1}{\\alpha^2}$.\n"
   ]
  },
  {
   "cell_type": "markdown",
   "id": "9df7300e",
   "metadata": {},
   "source": [
    "__Exemplo:__ O intervalo de tempo, em minutos, entre emissões consecutivas de uma fonte radioativa é uma variável aleatória contínua que segue uma distribuição exponencial com parâmetro $\\alpha = 0.2$. Qual a probabilidade de que ocorra uma emissão em um intervalo inferior a 2 minutos?"
   ]
  },
  {
   "cell_type": "code",
   "execution_count": 19,
   "id": "a829ff2b",
   "metadata": {
    "ExecuteTime": {
     "end_time": "2023-02-28T00:56:25.780791Z",
     "start_time": "2023-02-28T00:56:25.766250Z"
    }
   },
   "outputs": [
    {
     "name": "stdout",
     "output_type": "stream",
     "text": [
      "Valor teórico da probabilidade é:  0.3297\n"
     ]
    }
   ],
   "source": [
    "# função de densidade exponencial\n",
    "def f3(x):\n",
    "    # Parametro alpha\n",
    "    alpha = 0.2\n",
    "    return alpha * np.exp(-alpha * x)\n",
    "\n",
    "\n",
    "# Integral da função de densidade\n",
    "prop, err2 = quad(f3, 0, 2)\n",
    "\n",
    "# Print da Probabilidade\n",
    "print(\"Valor teórico da probabilidade é: \", np.round(prop, 4))"
   ]
  },
  {
   "cell_type": "markdown",
   "id": "6b5c7e0a",
   "metadata": {},
   "source": [
    "## "
   ]
  },
  {
   "cell_type": "markdown",
   "id": "755be7e4",
   "metadata": {},
   "source": [
    "## Distribuição Uniforme"
   ]
  },
  {
   "cell_type": "markdown",
   "id": "7505349e",
   "metadata": {},
   "source": [
    "A distribuição uniforme é uma distribuição bem simples e não possui parâmetros, a única diferença é que só vai haver probabilidade para um determinado exento $x$, se $x \\in [a, b]$. Dessa forma a equação de densidade de probabilidade para a distribuição uniforme é dado por:\n",
    "\n",
    "$$ f(x) = \\frac{1}{b - a}, a \\leq x \\leq b $$\n",
    "\n",
    "E para o caso de $x \\notin [a, b]$, a função de densidade será $f(x) = 0$\n",
    "\n",
    "<br>\n",
    "Os valores para o valor esperado e a variância para a distribuição exponencial serão respectivamente:\n",
    "\n",
    "- __Valor Esperado:__ $ E[X] = \\frac{a + b}{2} $;\n",
    "\n",
    "- __Variância:__ $ V[X] = \\frac{(b - a)^2}{12}$.\n"
   ]
  },
  {
   "cell_type": "code",
   "execution_count": 22,
   "id": "a6394f4c",
   "metadata": {
    "ExecuteTime": {
     "end_time": "2023-02-28T00:57:08.218089Z",
     "start_time": "2023-02-28T00:57:07.740563Z"
    }
   },
   "outputs": [
    {
     "data": {
      "image/png": "[encoded data removed]",
      "text/plain": [
       "<Figure size 500x500 with 1 Axes>"
      ]
     },
     "metadata": {},
     "output_type": "display_data"
    }
   ],
   "source": [
    "N = 100\n",
    "\n",
    "amostra_uniform = np.random.uniform(0, 1, N)\n",
    "\n",
    "sns.displot(amostra_uniform, kde=True)\n",
    "\n",
    "plt.show()"
   ]
  },
  {
   "cell_type": "code",
   "execution_count": 23,
   "id": "e2f5a01a",
   "metadata": {
    "ExecuteTime": {
     "end_time": "2023-02-28T00:57:51.423076Z",
     "start_time": "2023-02-28T00:57:50.924284Z"
    }
   },
   "outputs": [
    {
     "data": {
      "image/png": "[encoded data removed]",
      "text/plain": [
       "<Figure size 500x500 with 1 Axes>"
      ]
     },
     "metadata": {},
     "output_type": "display_data"
    }
   ],
   "source": [
    "N = 10000\n",
    "\n",
    "amostra_uniform = np.random.uniform(0, 1, N)\n",
    "\n",
    "sns.displot(amostra_uniform, kde=True)\n",
    "\n",
    "plt.show()"
   ]
  },
  {
   "cell_type": "code",
   "execution_count": 24,
   "id": "ac901f1c",
   "metadata": {
    "ExecuteTime": {
     "end_time": "2023-02-28T00:58:15.910512Z",
     "start_time": "2023-02-28T00:58:08.363055Z"
    }
   },
   "outputs": [
    {
     "data": {
      "image/png": "[encoded data removed]",
      "text/plain": [
       "<Figure size 500x500 with 1 Axes>"
      ]
     },
     "metadata": {},
     "output_type": "display_data"
    }
   ],
   "source": [
    "N = 1000000\n",
    "\n",
    "amostra_uniform = np.random.uniform(0, 1, N)\n",
    "\n",
    "sns.displot(amostra_uniform, kde=True)\n",
    "\n",
    "plt.show()"
   ]
  },
  {
   "cell_type": "markdown",
   "id": "7fc17e95",
   "metadata": {},
   "source": [
    "## "
   ]
  },
  {
   "cell_type": "markdown",
   "id": "84c19815",
   "metadata": {},
   "source": [
    "## Exercícios"
   ]
  },
  {
   "cell_type": "markdown",
   "id": "bed5d17d",
   "metadata": {},
   "source": [
    "__1)__ Em uma caixa há 7 bolas brancas, 4 pretas e 5 vermelhas. Retira-se 6 bolas com reposição. Calcule a probabilidade de que:\n",
    "\n",
    "__A)__ saiam 4 bolas vermelhas:\n",
    "\n",
    "__B)__ pelo menos 3 bolas brancas:\n",
    "\n",
    "__C)__ 1 ou 2 bolas pretas."
   ]
  },
  {
   "cell_type": "markdown",
   "id": "840489b6",
   "metadata": {},
   "source": [
    "## "
   ]
  },
  {
   "cell_type": "markdown",
   "id": "e1753989",
   "metadata": {},
   "source": [
    "__2)__ Em um livro de 800 páginas há 800 erros de impressão. Qual a probabilidade de que uma página contenha pelo menos 3 erros?"
   ]
  },
  {
   "cell_type": "markdown",
   "id": "4ed57c97",
   "metadata": {},
   "source": [
    "## "
   ]
  },
  {
   "cell_type": "markdown",
   "id": "e1f55925",
   "metadata": {},
   "source": [
    "__3)__ Numa criação de coelhos, 45% são machos. Qual a probabilidade de nascerem pelo menos 5 coelhos machos num dia em que nasceram 15 coelhos?"
   ]
  },
  {
   "cell_type": "markdown",
   "id": "acd19444",
   "metadata": {},
   "source": [
    "## "
   ]
  },
  {
   "cell_type": "markdown",
   "id": "eb5be6f8",
   "metadata": {},
   "source": [
    "__4)__ Numa estrada há 2 acidentes para cada 100 km. Qual a probabilidade de que em:\n",
    "\n",
    "__A)__ 250 km pelo menos 3 acidentes?"
   ]
  },
  {
   "cell_type": "markdown",
   "id": "7b32130a",
   "metadata": {},
   "source": [
    "__B)__ 300 km ocorram 5 acidentes?"
   ]
  }
 ],
 "metadata": {
  "kernelspec": {
   "display_name": "Python 3 (ipykernel)",
   "language": "python",
   "name": "python3"
  },
  "language_info": {
   "codemirror_mode": {
    "name": "ipython",
    "version": 3
   },
   "file_extension": ".py",
   "mimetype": "text/x-python",
   "name": "python",
   "nbconvert_exporter": "python",
   "pygments_lexer": "ipython3",
   "version": "3.10.9"
  },
  "varInspector": {
   "cols": {
    "lenName": 16,
    "lenType": 16,
    "lenVar": 40
   },
   "kernels_config": {
    "python": {
     "delete_cmd_postfix": "",
     "delete_cmd_prefix": "del ",
     "library": "var_list.py",
     "varRefreshCmd": "print(var_dic_list())"
    },
    "r": {
     "delete_cmd_postfix": ") ",
     "delete_cmd_prefix": "rm(",
     "library": "var_list.r",
     "varRefreshCmd": "cat(var_dic_list()) "
    }
   },
   "types_to_exclude": [
    "module",
    "function",
    "builtin_function_or_method",
    "instance",
    "_Feature"
   ],
   "window_display": false
  }
 },
 "nbformat": 4,
 "nbformat_minor": 5
}
